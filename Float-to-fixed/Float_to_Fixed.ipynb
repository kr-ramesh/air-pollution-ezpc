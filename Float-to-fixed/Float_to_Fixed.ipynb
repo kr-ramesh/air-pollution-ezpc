{
  "cells": [
    {
      "cell_type": "code",
      "execution_count": null,
      "metadata": {
        "colab": {
          "base_uri": "https://localhost:8080/"
        },
        "id": "g4eO3VZw7NFu",
        "outputId": "bea22bf4-eaa8-4afe-88d6-fd5d447103c0"
      },
      "outputs": [
        {
          "output_type": "stream",
          "name": "stdout",
          "text": [
            "{0: 1, 1: 2, 2: 4, 3: 8, 4: 16, 5: 32, 6: 64, 7: 128, 8: 256, 9: 512, 10: 1024, 11: 2048, 12: 4096, 13: 8192, 14: 16384, 15: 32768, 16: 65536, 17: 131072, 18: 262144, 19: 524288, 20: 1048576, 21: 2097152, 22: 4194304, 23: 8388608, 24: 16777216, 25: 33554432, 26: 67108864, 27: 134217728, 28: 268435456, 29: 536870912, 30: 1073741824, 31: 2147483648, 32: 4294967296, 33: 8589934592, 34: 17179869184, 35: 34359738368, 36: 68719476736, 37: 137438953472, 38: 274877906944, 39: 549755813888, 40: 1099511627776, 41: 2199023255552, 42: 4398046511104, 43: 8796093022208, 44: 17592186044416, 45: 35184372088832, 46: 70368744177664, 47: 140737488355328, 48: 281474976710656, 49: 562949953421312, 50: 1125899906842624, 51: 2251799813685248, 52: 4503599627370496, 53: 9007199254740992, 54: 18014398509481984, 55: 36028797018963968, 56: 72057594037927936, 57: 144115188075855872, 58: 288230376151711744, 59: 576460752303423488, 60: 1152921504606846976, 61: 2305843009213693952, 62: 4611686018427387904, 63: 9223372036854775808, 64: 18446744073709551616, 65: 36893488147419103232, 66: 73786976294838206464, 67: 147573952589676412928, 68: 295147905179352825856, 69: 590295810358705651712, 70: 1180591620717411303424, 71: 2361183241434822606848, 72: 4722366482869645213696, 73: 9444732965739290427392, 74: 18889465931478580854784, 75: 37778931862957161709568, 76: 75557863725914323419136, 77: 151115727451828646838272, 78: 302231454903657293676544, 79: 604462909807314587353088, 80: 1208925819614629174706176, 81: 2417851639229258349412352, 82: 4835703278458516698824704, 83: 9671406556917033397649408, 84: 19342813113834066795298816, 85: 38685626227668133590597632, 86: 77371252455336267181195264, 87: 154742504910672534362390528, 88: 309485009821345068724781056, 89: 618970019642690137449562112, 90: 1237940039285380274899124224, 91: 2475880078570760549798248448, 92: 4951760157141521099596496896, 93: 9903520314283042199192993792, 94: 19807040628566084398385987584, 95: 39614081257132168796771975168, 96: 79228162514264337593543950336, 97: 158456325028528675187087900672, 98: 316912650057057350374175801344, 99: 633825300114114700748351602688, 100: 1267650600228229401496703205376, 101: 2535301200456458802993406410752, 102: 5070602400912917605986812821504, 103: 10141204801825835211973625643008, 104: 20282409603651670423947251286016, 105: 40564819207303340847894502572032, 106: 81129638414606681695789005144064, 107: 162259276829213363391578010288128, 108: 324518553658426726783156020576256, 109: 649037107316853453566312041152512, 110: 1298074214633706907132624082305024, 111: 2596148429267413814265248164610048, 112: 5192296858534827628530496329220096, 113: 10384593717069655257060992658440192, 114: 20769187434139310514121985316880384, 115: 41538374868278621028243970633760768, 116: 83076749736557242056487941267521536, 117: 166153499473114484112975882535043072, 118: 332306998946228968225951765070086144, 119: 664613997892457936451903530140172288, 120: 1329227995784915872903807060280344576, 121: 2658455991569831745807614120560689152, 122: 5316911983139663491615228241121378304, 123: 10633823966279326983230456482242756608, 124: 21267647932558653966460912964485513216, 125: 42535295865117307932921825928971026432, 126: 85070591730234615865843651857942052864, 127: 170141183460469231731687303715884105728}\n"
          ]
        }
      ],
      "source": [
        "exp_dict={}\n",
        "for i in range(0,128):\n",
        "  exp_dict[i]=2**(i)\n",
        "print(exp_dict)"
      ]
    },
    {
      "cell_type": "code",
      "source": [
        "list_of_numbers=[4.9042821504535347,-70.40441973423401,0,77.0507667243214,-99.6175791042,22.244144885,88.3889394614,67.5236281643,74.8189688697,4.840235094,11.0652513346,69.1172942636,65.3377424597,74.3603258759,68.8458678959,22.0030407771,39.144387384,93.5312618825,23.5384549711,52.0022613425]\n",
        "list_of_numbers=[convert_num(i) for i in list_of_numbers]\n",
        "for i in list_of_numbers:\n",
        "  print(int(i*pow(2, 23)))"
      ],
      "metadata": {
        "colab": {
          "base_uri": "https://localhost:8080/"
        },
        "id": "GRk78MTwaCkv",
        "outputId": "6cb0f9d6-e86d-498e-bf2e-4d1d74201297"
      },
      "execution_count": null,
      "outputs": [
        {
          "output_type": "stream",
          "name": "stdout",
          "text": [
            "41140100\n",
            "-590595072\n",
            "0\n",
            "646348671\n",
            "-835652800\n",
            "186597408\n",
            "741460160\n",
            "566429248\n",
            "627627008\n",
            "40602836\n",
            "92822055\n",
            "579797887\n",
            "548092736\n",
            "623779648\n",
            "577521024\n",
            "184574879\n",
            "328366911\n",
            "784597120\n",
            "197454863\n",
            "436226591\n"
          ]
        }
      ]
    },
    {
      "cell_type": "code",
      "source": [
        "list_of_numbers=[4.9042821504535347,-70.40441973423401,0,77.0507667243214,-99.6175791042,22.244144885,88.3889394614,67.5236281643,74.8189688697,4.840235094,11.0652513346,69.1172942636,65.3377424597,74.3603258759,68.8458678959,22.0030407771,39.144387384,93.5312618825,23.5384549711,52.0022613425]\n",
        "list_of_numbers=[convert_num(i) for i in list_of_numbers]\n",
        "for i in list_of_numbers:\n",
        "  print(floating_to_fixed(i, 22))"
      ],
      "metadata": {
        "colab": {
          "base_uri": "https://localhost:8080/"
        },
        "id": "F9-5eKbolJGH",
        "outputId": "848c689e-e5b4-4dba-be63-21d2fa059675"
      },
      "execution_count": null,
      "outputs": [
        {
          "output_type": "stream",
          "name": "stdout",
          "text": [
            "20570050\n",
            "-295297536\n",
            "0\n",
            "323174335\n",
            "-417826400\n",
            "93298704\n",
            "370730080\n",
            "283214624\n",
            "313813504\n",
            "20301418\n",
            "46411027\n",
            "289898943\n",
            "274046368\n",
            "311889824\n",
            "288760512\n",
            "92287439\n",
            "164183455\n",
            "392298560\n",
            "98727431\n",
            "218113295\n"
          ]
        }
      ]
    },
    {
      "cell_type": "code",
      "source": [
        "floating_to_fixed(4.9042821504535347, 23)"
      ],
      "metadata": {
        "colab": {
          "base_uri": "https://localhost:8080/"
        },
        "id": "wUneoybou5At",
        "outputId": "7a99b5ce-e47d-4586-845b-dca7cedae386"
      },
      "execution_count": null,
      "outputs": [
        {
          "output_type": "execute_result",
          "data": {
            "text/plain": [
              "82280200"
            ]
          },
          "metadata": {},
          "execution_count": 64
        }
      ]
    },
    {
      "cell_type": "code",
      "source": [
        "def floating_to_fixed(float_num, p):\n",
        "  s, z, m, e = float_to_szme(float_num)\n",
        "  exp_add=e+p\n",
        "\n",
        "  if(z==1):\n",
        "    return 0\n",
        "  \n",
        "  new_number=0 if (e+p)<=-1 else exp_dict[e+p]\n",
        "  m=((m*new_number))>>51\n",
        "\n",
        "  return -m if s else m"
      ],
      "metadata": {
        "id": "hljzBGVswBl3"
      },
      "execution_count": null,
      "outputs": []
    },
    {
      "cell_type": "code",
      "source": [
        "def convert_num(f_):\n",
        "  return round(struct.unpack('f', struct.pack('f', f_))[0], 13)"
      ],
      "metadata": {
        "id": "vEYC439mo-Lx"
      },
      "execution_count": null,
      "outputs": []
    },
    {
      "cell_type": "code",
      "source": [
        "list_of_numbers=[4.9042821504535347,-70.40441973423401,0,77.0507667243214,-99.6175791042,22.244144885,88.3889394614,67.5236281643,74.8189688697,4.840235094,11.0652513346,69.1172942636,65.3377424597,74.3603258759,68.8458678959,22.0030407771,39.144387384,93.5312618825,23.5384549711,52.0022613425]\n",
        "list_of_numbers=[convert_num(i) for i in list_of_numbers]\n",
        "for i in list_of_numbers:\n",
        "  _, _, _, exponents=float_to_szme(i)\n",
        "  print(127+exponents)"
      ],
      "metadata": {
        "id": "SoQ1-8pM63Oo",
        "colab": {
          "base_uri": "https://localhost:8080/"
        },
        "outputId": "d4a19bdc-3dd7-44f0-9f9f-36c64b150e7e"
      },
      "execution_count": null,
      "outputs": [
        {
          "output_type": "stream",
          "name": "stdout",
          "text": [
            "129\n",
            "133\n",
            "127\n",
            "133\n",
            "133\n",
            "131\n",
            "133\n",
            "133\n",
            "133\n",
            "129\n",
            "130\n",
            "133\n",
            "133\n",
            "133\n",
            "133\n",
            "131\n",
            "132\n",
            "133\n",
            "131\n",
            "132\n"
          ]
        }
      ]
    },
    {
      "cell_type": "code",
      "source": [
        "float_to_szme(70.40441973423401)"
      ],
      "metadata": {
        "colab": {
          "base_uri": "https://localhost:8080/"
        },
        "id": "NOVKsuhq11do",
        "outputId": "e9fb354a-a001-45c1-f21c-21c93fcebcb1"
      },
      "execution_count": null,
      "outputs": [
        {
          "output_type": "stream",
          "name": "stdout",
          "text": [
            "0 0 000110111010010111100011010100111111011111001110111 10\n"
          ]
        },
        {
          "output_type": "execute_result",
          "data": {
            "text/plain": [
              "(0, 0, 4647288, 2)"
            ]
          },
          "metadata": {},
          "execution_count": 80
        }
      ]
    },
    {
      "cell_type": "code",
      "source": [
        "int(-70.40441973423401*(2**23))"
      ],
      "metadata": {
        "colab": {
          "base_uri": "https://localhost:8080/"
        },
        "id": "zEF_bPFpWoFg",
        "outputId": "463680a0-770c-4490-8694-a143aad74a6c"
      },
      "execution_count": null,
      "outputs": [
        {
          "output_type": "execute_result",
          "data": {
            "text/plain": [
              "-590595078"
            ]
          },
          "metadata": {},
          "execution_count": 45
        }
      ]
    },
    {
      "cell_type": "code",
      "source": [
        "32520<<10"
      ],
      "metadata": {
        "colab": {
          "base_uri": "https://localhost:8080/"
        },
        "id": "CjUmptdIf8NV",
        "outputId": "4b5d9120-cc63-4274-a21d-a0daf73dc439"
      },
      "execution_count": null,
      "outputs": [
        {
          "output_type": "execute_result",
          "data": {
            "text/plain": [
              "33300480"
            ]
          },
          "metadata": {},
          "execution_count": 62
        }
      ]
    },
    {
      "cell_type": "code",
      "source": [
        ""
      ],
      "metadata": {
        "colab": {
          "base_uri": "https://localhost:8080/"
        },
        "id": "iV4Lv-2SqtnP",
        "outputId": "d670fd7d-5d32-4f5e-caab-98ed18c1d660"
      },
      "execution_count": null,
      "outputs": [
        {
          "output_type": "execute_result",
          "data": {
            "text/plain": [
              "41140100.00000004"
            ]
          },
          "metadata": {},
          "execution_count": 46
        }
      ]
    },
    {
      "cell_type": "code",
      "source": [
        "import struct\n",
        "for i in [4.9042821504535347,-70.40441973423401,0,77.0507667243214,-99.6175791042,22.244144885,88.3889394614,67.5236281643,74.8189688697,4.840235094,11.0652513346,69.1172942636,65.3377424597,74.3603258759,68.8458678959,22.0030407771,39.144387384,93.5312618825,23.5384549711,52.0022613425]:\n",
        "  print(round(struct.unpack('f', struct.pack('f', i))[0], 13))"
      ],
      "metadata": {
        "colab": {
          "base_uri": "https://localhost:8080/"
        },
        "id": "mqlgvAoNb8yX",
        "outputId": "24fcb992-c505-4efa-e483-508bdbcd6a00"
      },
      "execution_count": null,
      "outputs": [
        {
          "output_type": "stream",
          "name": "stdout",
          "text": [
            "4.9042820930481\n",
            "-70.4044189453125\n",
            "0.0\n",
            "77.0507659912109\n",
            "-99.6175765991211\n",
            "22.2441444396973\n",
            "88.3889389038086\n",
            "67.5236282348633\n",
            "74.8189697265625\n",
            "4.8402352333069\n",
            "11.0652513504028\n",
            "69.1172943115234\n",
            "65.3377456665039\n",
            "74.3603286743164\n",
            "68.8458709716797\n",
            "22.0030403137207\n",
            "39.1443862915039\n",
            "93.5312652587891\n",
            "23.5384540557861\n",
            "52.0022621154785\n"
          ]
        }
      ]
    },
    {
      "cell_type": "code",
      "source": [
        "4.9042820930481\n",
        "-70.4044189453125\n",
        "0\n",
        "77.0507659912109\n",
        "-99.6175765991211\n",
        "22.2441444396973\n",
        "88.3889389038086\n",
        "67.5236282348633\n",
        "74.8189697265625\n",
        "4.84023523330688\n",
        "11.0652513504028\n",
        "69.1172943115234\n",
        "65.3377456665039\n",
        "74.3603286743164\n",
        "68.8458709716797\n",
        "22.0030403137207\n",
        "39.1443862915039\n",
        "93.5312652587891\n",
        "23.5384540557861\n"
      ],
      "metadata": {
        "id": "sWb1dIHdnBR5"
      },
      "execution_count": null,
      "outputs": []
    },
    {
      "cell_type": "code",
      "source": [
        "float_to_szme(583)"
      ],
      "metadata": {
        "colab": {
          "base_uri": "https://localhost:8080/"
        },
        "id": "kkwAPU96tBhT",
        "outputId": "736f2d58-9575-4075-dcd2-6f502deb35fa"
      },
      "execution_count": null,
      "outputs": [
        {
          "output_type": "execute_result",
          "data": {
            "text/plain": [
              "(0, 0, 2564061115973632, 9)"
            ]
          },
          "metadata": {},
          "execution_count": 4
        }
      ]
    },
    {
      "cell_type": "code",
      "execution_count": null,
      "metadata": {
        "colab": {
          "base_uri": "https://localhost:8080/",
          "height": 53
        },
        "id": "EKvBrfJZDM3J",
        "outputId": "baf57e16-f076-4697-b880-c3558e01ad6f"
      },
      "outputs": [
        {
          "output_type": "execute_result",
          "data": {
            "application/vnd.google.colaboratory.intrinsic+json": {
              "type": "string"
            },
            "text/plain": [
              "\"def div(num, d):\\n  count=0\\n  while(num>0):\\n    num-=d\\n    count+=1\\n  if(num==0):\\n    return count\\n  else:\\n    return count-1\\n  \\ndef mantissa_bin(mant):\\n  mul=1\\n\\n  for i in range(len(mant)):\\n    if(mant[i]=='1'):\\n      mul+=pow(2,-(i+1))\\n\\n  return mul\""
            ]
          },
          "metadata": {},
          "execution_count": 2
        }
      ],
      "source": [
        "\"\"\"def floating_to_fixed(float_num, p):\n",
        "  s, z, m, e = float_to_szme(float_num)\n",
        "  neg_add=0\n",
        "  exp_add=e+p\n",
        "\n",
        "  if(z==1):\n",
        "    return 0\n",
        "\n",
        "  if(s==1):\n",
        "    mask=1<<(22-exp_add)\n",
        "    neg_add=1 if mask!=0 else 0\n",
        "  \n",
        "  new_number=exp_dict[exp_add]\n",
        "  m=((m*new_number)>>22)+neg_add\n",
        "  return (-1)**s*m\n",
        "  #if((s==1) and (1<<(22-exp_add))!=0):\n",
        "  #  m=m+1\"\"\"\n",
        "\n",
        "m_bits=52\n",
        "def convert_num_to_binary(f):\n",
        "\tfraction_binary = str()\n",
        " \n",
        "\twhile (f):\n",
        "\t\tf*= 2\n",
        "\t\tif (f >= 1):\n",
        "\t\t\tadd_ = 1\n",
        "\t\t\tf -= 1\n",
        "\t\telse:\n",
        "\t\t\tadd_ = 0\n",
        "\t\tfraction_binary += str(add_)\n",
        "\n",
        "\treturn fraction_binary\n",
        "\n",
        "def float_to_szme(num):\n",
        "  if(num==0):\n",
        "    return 0, 1, 0, 0\n",
        "\n",
        "  s=0\n",
        "  if(num<0):\n",
        "    s=1\n",
        "    num=abs(num)\n",
        "\n",
        "  left = bin(int(num))[2:]\n",
        "  right = convert_num_to_binary(num - int(num))\n",
        "  \n",
        "  #print(left)\n",
        "  #print(right)\n",
        "  try:\n",
        "    index_= left.index('1')\n",
        "    e= bin((len(left)-(1+index_)))\n",
        "    e= e[2:]\n",
        "    \n",
        "    #print(left[index_ + 1 : ] )\n",
        "    \n",
        "    m= left[index_ + 1 : ] + right\n",
        "    m= m + ('0'*(m_bits - len(m)))\n",
        "    #print(s, 0, m, e)\n",
        "    return s, 0, int(('1'+m)[:m_bits],2), int(e, 2)\n",
        "  except:\n",
        "    m= right + ('0'*(m_bits - len(right) -1))\n",
        "    #print(s, 0, m, 0)\n",
        "    return s, 0, int(('0'+m)[:m_bits],2), 0\n",
        "\n",
        "\"\"\"def div(num, d):\n",
        "  count=0\n",
        "  while(num>0):\n",
        "    num-=d\n",
        "    count+=1\n",
        "  if(num==0):\n",
        "    return count\n",
        "  else:\n",
        "    return count-1\n",
        "  \n",
        "def mantissa_bin(mant):\n",
        "  mul=1\n",
        "\n",
        "  for i in range(len(mant)):\n",
        "    if(mant[i]=='1'):\n",
        "      mul+=pow(2,-(i+1))\n",
        "\n",
        "  return mul\"\"\""
      ]
    },
    {
      "cell_type": "code",
      "source": [
        "import random\n",
        "for i in range(10000):\n",
        "  original_num=random.uniform(1, 1000)\n",
        "  scale_factor=2\n",
        "  calc_num=int(pow(2, scale_factor)*original_num)\n",
        "  float_num=floating_to_fixed(original_num, scale_factor)\n",
        "  #print(floating_to_fixed(original_num, scale_factor))\n",
        "  if(float_num!=calc_num):\n",
        "    print(\"ERROR\")"
      ],
      "metadata": {
        "id": "36zdVJyf8bQt"
      },
      "execution_count": null,
      "outputs": []
    },
    {
      "cell_type": "code",
      "source": [
        "original_num=-60.125\n",
        "scale_factor=2\n",
        "calc_num=math.floor(pow(2, scale_factor)*original_num)\n",
        "float_num=floating_to_fixed(original_num, scale_factor)\n",
        "print(float_num)\n",
        "print(calc_num)\n",
        "if(float_num!=calc_num):\n",
        "  print(\"ERROR\")"
      ],
      "metadata": {
        "colab": {
          "base_uri": "https://localhost:8080/"
        },
        "id": "zc7uN-se8jbZ",
        "outputId": "75b2c180-43ac-48c1-a01d-ba34e42e3d68"
      },
      "execution_count": null,
      "outputs": [
        {
          "output_type": "stream",
          "name": "stdout",
          "text": [
            "-241\n",
            "-241\n"
          ]
        }
      ]
    },
    {
      "cell_type": "code",
      "source": [
        "int(-2.2947699630439313*16)"
      ],
      "metadata": {
        "colab": {
          "base_uri": "https://localhost:8080/"
        },
        "id": "M8BEDywda0Dj",
        "outputId": "92a3f4ef-77eb-4c6f-fbb9-61992a64114a"
      },
      "execution_count": null,
      "outputs": [
        {
          "output_type": "execute_result",
          "data": {
            "text/plain": [
              "-36"
            ]
          },
          "metadata": {},
          "execution_count": 110
        }
      ]
    },
    {
      "cell_type": "code",
      "execution_count": null,
      "metadata": {
        "id": "sxEkFUAXXGzV"
      },
      "outputs": [],
      "source": [
        "import random, math\n",
        "for i in range(10000):\n",
        "  original_num=random.uniform(-1000, 1000)\n",
        "  scale_factor=23\n",
        "  calc_num=math.floor(pow(2, scale_factor)*original_num)\n",
        "  float_num=floating_to_fixed(original_num, scale_factor)\n",
        "  if(float_num!=calc_num):\n",
        "    print(\"ERROR\")\n",
        "    print(calc_num, float_num)"
      ]
    },
    {
      "cell_type": "markdown",
      "metadata": {
        "id": "fo40jI1IXKRo"
      },
      "source": [
        "#Rough"
      ]
    },
    {
      "cell_type": "code",
      "execution_count": null,
      "metadata": {
        "colab": {
          "base_uri": "https://localhost:8080/"
        },
        "id": "gTlTEECsJ9_S",
        "outputId": "b7104eb8-5720-48d4-e266-f9ca9d913f5a"
      },
      "outputs": [
        {
          "output_type": "execute_result",
          "data": {
            "text/plain": [
              "-15"
            ]
          },
          "metadata": {},
          "execution_count": 100
        }
      ],
      "source": [
        "#float_to_szme(10.5)\n",
        "floating_to_fixed(-1.825, 3)"
      ]
    },
    {
      "cell_type": "code",
      "source": [
        "-1**0"
      ],
      "metadata": {
        "colab": {
          "base_uri": "https://localhost:8080/"
        },
        "id": "84I9M0SWZdbU",
        "outputId": "c09b32df-df89-4d35-cd82-aec64c56cb4e"
      },
      "execution_count": null,
      "outputs": [
        {
          "output_type": "execute_result",
          "data": {
            "text/plain": [
              "-1"
            ]
          },
          "metadata": {},
          "execution_count": 95
        }
      ]
    },
    {
      "cell_type": "code",
      "source": [
        "float_to_szme(1.825)"
      ],
      "metadata": {
        "colab": {
          "base_uri": "https://localhost:8080/"
        },
        "id": "jg_WvOXcY7yj",
        "outputId": "e50b503f-021e-4259-fd1e-dd7403069cdf"
      },
      "execution_count": null,
      "outputs": [
        {
          "output_type": "execute_result",
          "data": {
            "text/plain": [
              "(0, 0, 7654604, 0)"
            ]
          },
          "metadata": {},
          "execution_count": 91
        }
      ]
    },
    {
      "cell_type": "code",
      "source": [
        "x='11111111'\n",
        "print(int(x, 2))\n",
        "x=1\n",
        "print(bin(x))"
      ],
      "metadata": {
        "colab": {
          "base_uri": "https://localhost:8080/"
        },
        "id": "rpfKLIBpu1QL",
        "outputId": "ed689610-f012-46da-a768-e9e8d6e1708c"
      },
      "execution_count": null,
      "outputs": [
        {
          "output_type": "stream",
          "name": "stdout",
          "text": [
            "255\n",
            "0b1\n"
          ]
        }
      ]
    },
    {
      "cell_type": "code",
      "execution_count": null,
      "metadata": {
        "colab": {
          "base_uri": "https://localhost:8080/"
        },
        "id": "Uw5N1_62cYE6",
        "outputId": "5855701a-95c3-4de8-af86-9ea4eaa425f9"
      },
      "outputs": [
        {
          "output_type": "stream",
          "name": "stdout",
          "text": [
            "0 0 10100000000000000000000 0\n"
          ]
        },
        {
          "output_type": "execute_result",
          "data": {
            "text/plain": [
              "(0, 0, 6815744, 0)"
            ]
          },
          "metadata": {},
          "execution_count": 13
        }
      ],
      "source": [
        "float_to_szme(1.625)\n",
        "#'10100000000000000000000'>>22"
      ]
    },
    {
      "cell_type": "code",
      "execution_count": null,
      "metadata": {
        "colab": {
          "base_uri": "https://localhost:8080/"
        },
        "id": "VN81CwBOGG2d",
        "outputId": "ba0c83b0-1455-4b8d-a081-0d11ae2f74f1"
      },
      "outputs": [
        {
          "name": "stdout",
          "output_type": "stream",
          "text": [
            "23\n"
          ]
        }
      ],
      "source": [
        "print(len('11010000000000000000000'))"
      ]
    },
    {
      "cell_type": "code",
      "execution_count": null,
      "metadata": {
        "colab": {
          "base_uri": "https://localhost:8080/"
        },
        "id": "weij5bXYciGC",
        "outputId": "9074ad8d-99f1-4fb1-8002-00593daa9594"
      },
      "outputs": [
        {
          "name": "stdout",
          "output_type": "stream",
          "text": [
            "14\n",
            "Answer: 14\n"
          ]
        }
      ],
      "source": [
        "ori_num=1.825\n",
        "sf=3\n",
        "_, _, x, ex=float_to_szme(ori_num)\n",
        "x='1'+x\n",
        "x=int(x[:23], 2)*pow(2,int(ex,2)+sf)\n",
        "print(x>>22)\n",
        "print('Answer:', int(pow(2, sf)*ori_num))"
      ]
    },
    {
      "cell_type": "code",
      "execution_count": null,
      "metadata": {
        "colab": {
          "base_uri": "https://localhost:8080/"
        },
        "id": "JFVKUGfcOqZp",
        "outputId": "832aab56-8481-4d84-81d4-a8b7557c5d32"
      },
      "outputs": [
        {
          "output_type": "stream",
          "name": "stdout",
          "text": [
            "0 0 01011000000000000000000 11\n",
            "131072\n"
          ]
        }
      ],
      "source": [
        "s_, z_, m_, e_=float_to_szme(10.75)\n",
        "print(m_)\n",
        "#mask=int(((e_+2)*'0'+(23-e_-2)*'1'), 2)\n",
        "mask=int((e_+2)*'0'+(23-e_-2)*'1', 2)\n",
        "mask = format(mask, \"023b\")\n",
        "print(m_ & mask)"
      ]
    },
    {
      "cell_type": "code",
      "source": [
        "s_, z_, m_, e_=float_to_szme(1.5)\n",
        "mask=int((e_+2+1)*'0'+(22-e_-2)*'1', 2)\n",
        "print(m_)\n",
        "print(mask)\n",
        "print((m_&mask))"
      ],
      "metadata": {
        "colab": {
          "base_uri": "https://localhost:8080/"
        },
        "id": "KHGwiyJvXQAd",
        "outputId": "8f6eb395-c704-4ad0-e2ad-ede2e5c0e428"
      },
      "execution_count": null,
      "outputs": [
        {
          "output_type": "stream",
          "name": "stdout",
          "text": [
            "0 0 10000000000000000000000 0\n",
            "6291456\n",
            "1048575\n",
            "0\n"
          ]
        }
      ]
    },
    {
      "cell_type": "code",
      "source": [
        "len('10101100000000000000000')"
      ],
      "metadata": {
        "colab": {
          "base_uri": "https://localhost:8080/"
        },
        "id": "9rA4X7OgWpXA",
        "outputId": "5e0df245-c4a6-4c72-889c-8718b14de7bf"
      },
      "execution_count": null,
      "outputs": [
        {
          "output_type": "execute_result",
          "data": {
            "text/plain": [
              "23"
            ]
          },
          "metadata": {},
          "execution_count": 65
        }
      ]
    },
    {
      "cell_type": "code",
      "source": [
        "print(0b11111111111111111 & 0b10101100000000000000000)"
      ],
      "metadata": {
        "colab": {
          "base_uri": "https://localhost:8080/"
        },
        "id": "7wYZfMhqInS2",
        "outputId": "16267d38-e079-48d1-b765-11da831cbf20"
      },
      "execution_count": null,
      "outputs": [
        {
          "output_type": "stream",
          "name": "stdout",
          "text": [
            "0\n"
          ]
        }
      ]
    },
    {
      "cell_type": "code",
      "source": [
        "print(0b01011000000000000000000 && 0b00000111111111111111111)"
      ],
      "metadata": {
        "colab": {
          "base_uri": "https://localhost:8080/"
        },
        "id": "np1SUSvJEgH_",
        "outputId": "7bbce977-38b1-4416-de6b-de08a9e197bd"
      },
      "execution_count": null,
      "outputs": [
        {
          "output_type": "stream",
          "name": "stdout",
          "text": [
            "0\n"
          ]
        }
      ]
    },
    {
      "cell_type": "code",
      "source": [
        "print(8&0b1111)"
      ],
      "metadata": {
        "colab": {
          "base_uri": "https://localhost:8080/"
        },
        "id": "WU5-G1liHoIc",
        "outputId": "16a84090-98a4-4b35-9744-fa1cbf7a196a"
      },
      "execution_count": null,
      "outputs": [
        {
          "output_type": "stream",
          "name": "stdout",
          "text": [
            "8\n"
          ]
        }
      ]
    },
    {
      "cell_type": "code",
      "source": [
        "1+0.25+0.0625+0.03125\n",
        "1.34375*8"
      ],
      "metadata": {
        "colab": {
          "base_uri": "https://localhost:8080/"
        },
        "id": "2-60HW9QBho7",
        "outputId": "206c0189-8200-4cce-ebc6-1d4b9b6daacc"
      },
      "execution_count": null,
      "outputs": [
        {
          "output_type": "execute_result",
          "data": {
            "text/plain": [
              "10.75"
            ]
          },
          "metadata": {},
          "execution_count": 17
        }
      ]
    },
    {
      "cell_type": "code",
      "execution_count": null,
      "metadata": {
        "colab": {
          "base_uri": "https://localhost:8080/"
        },
        "id": "nyT4_Cdw8M45",
        "outputId": "f9e27359-46c4-4e8f-e3db-1e760cebf7de"
      },
      "outputs": [
        {
          "data": {
            "text/plain": [
              "13"
            ]
          },
          "execution_count": 62,
          "metadata": {},
          "output_type": "execute_result"
        }
      ],
      "source": [
        "floating_to_fixed(1.625, 3)"
      ]
    },
    {
      "cell_type": "code",
      "source": [
        "len('000000000000000000000000000000000000000100001110000110000011001')\n",
        "len('00111001110111111100001')"
      ],
      "metadata": {
        "colab": {
          "base_uri": "https://localhost:8080/"
        },
        "id": "Hlhg0ffu437l",
        "outputId": "6c3d3db2-c81c-46cc-c86d-83f748e3a0ac"
      },
      "execution_count": null,
      "outputs": [
        {
          "output_type": "execute_result",
          "data": {
            "text/plain": [
              "23"
            ]
          },
          "metadata": {},
          "execution_count": 9
        }
      ]
    },
    {
      "cell_type": "code",
      "source": [
        "10285025<<4"
      ],
      "metadata": {
        "colab": {
          "base_uri": "https://localhost:8080/"
        },
        "id": "pb3JeJTtGgwC",
        "outputId": "0c813890-9a01-4317-c7cc-3820cc8b024a"
      },
      "execution_count": null,
      "outputs": [
        {
          "output_type": "execute_result",
          "data": {
            "text/plain": [
              "164560400"
            ]
          },
          "metadata": {},
          "execution_count": 3
        }
      ]
    },
    {
      "cell_type": "code",
      "execution_count": null,
      "metadata": {
        "colab": {
          "base_uri": "https://localhost:8080/"
        },
        "id": "ISmNiZ1hCp5v",
        "outputId": "e5ef8bee-ec17-4a66-9269-9bc8da369e01"
      },
      "outputs": [
        {
          "name": "stdout",
          "output_type": "stream",
          "text": [
            "011011110101110000101000111101011100001010001111011\n"
          ]
        },
        {
          "data": {
            "text/plain": [
              "3081639034"
            ]
          },
          "execution_count": 66,
          "metadata": {},
          "output_type": "execute_result"
        }
      ],
      "source": [
        "floating_to_fixed(1.435, 3)"
      ]
    },
    {
      "cell_type": "code",
      "execution_count": null,
      "metadata": {
        "colab": {
          "base_uri": "https://localhost:8080/"
        },
        "id": "C8JoKb0c_8Vg",
        "outputId": "75ced520-f02f-41e1-c177-7420eb6ba2d2"
      },
      "outputs": [
        {
          "output_type": "stream",
          "name": "stdout",
          "text": [
            "-15098336\n"
          ]
        }
      ],
      "source": [
        "print(-1932587008>>7)"
      ]
    },
    {
      "cell_type": "code",
      "source": [
        "def szme(num):\n",
        "  if(num==0):\n",
        "    return 0, 1, 0, 0\n",
        "\n",
        "  s=0\n",
        "  if(num<0):\n",
        "    s=1\n",
        "\n",
        "  left = bin(int(abs(num)))[2:]\n",
        "  right = convert_num_to_binary(num - int(num))\n",
        "  \n",
        "  print(left)\n",
        "  print(right)\n",
        "  \n",
        "  index_= left.index('1')\n",
        "  print(\"Index\", index_)\n",
        "  print(len(left))\n",
        "  print(\"E\", len(left)-(1+index_))\n",
        "  e= bin((len(left)-(1+index_)))\n",
        "  print(e)\n",
        "  e= e[2:]\n",
        "  print(e)\n",
        "  \n",
        "  #print(left[index_ + 1 : ] )\n",
        "  m= left[index_ + 1 : ] + right\n",
        "  print(\"LEFT\", left[index_ + 1 : ])\n",
        "  m= m + ('0'*(23 - len(m)))\n",
        "  print(m)\n",
        "  \n",
        "  return s, 0, int(('1'+m)[:23],2), int(e, 2)\n",
        "\n",
        "def convert_num_to_binary(f):\n",
        "\tfraction_binary = str()\n",
        " \n",
        "\twhile (f):\n",
        "\t\tf*= 2\n",
        "\t\tif (f >= 1):\n",
        "\t\t\tadd_ = 1\n",
        "\t\t\tf -= 1\n",
        "\t\telse:\n",
        "\t\t\tadd_ = 0\n",
        "\t\tfraction_binary += str(add_)\n",
        "\n",
        "\treturn fraction_binary"
      ],
      "metadata": {
        "id": "H3eb7bJfAcId"
      },
      "execution_count": null,
      "outputs": []
    },
    {
      "cell_type": "code",
      "source": [
        "szme(10.625)\n",
        "float_to_szme(10.625)"
      ],
      "metadata": {
        "colab": {
          "base_uri": "https://localhost:8080/"
        },
        "id": "VQX-ywy_AqCB",
        "outputId": "6e956405-3a1f-4438-c36d-89ec1a614590"
      },
      "execution_count": null,
      "outputs": [
        {
          "output_type": "stream",
          "name": "stdout",
          "text": [
            "1010\n",
            "101\n",
            "Index 0\n",
            "4\n",
            "E 3\n",
            "0b11\n",
            "11\n",
            "LEFT 010\n",
            "01010100000000000000000\n",
            "0 0 01010100000000000000000 11\n"
          ]
        },
        {
          "output_type": "execute_result",
          "data": {
            "text/plain": [
              "(0, 0, 5570560, 3)"
            ]
          },
          "metadata": {},
          "execution_count": 34
        }
      ]
    },
    {
      "cell_type": "code",
      "source": [
        "(print(741460160*2**(15-23)))\n",
        "(print((741460160*2**15)>>23))"
      ],
      "metadata": {
        "colab": {
          "base_uri": "https://localhost:8080/"
        },
        "id": "62P9hBZAh_GR",
        "outputId": "afb503da-656c-4ebd-d1dd-7e9e504bc79a"
      },
      "execution_count": null,
      "outputs": [
        {
          "output_type": "stream",
          "name": "stdout",
          "text": [
            "2896328.75\n",
            "2896328\n"
          ]
        }
      ]
    }
  ],
  "metadata": {
    "colab": {
      "collapsed_sections": [],
      "name": "Float to Fixed.ipynb",
      "provenance": []
    },
    "kernelspec": {
      "display_name": "Python 3",
      "name": "python3"
    },
    "language_info": {
      "name": "python"
    }
  },
  "nbformat": 4,
  "nbformat_minor": 0
}